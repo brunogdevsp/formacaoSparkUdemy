{
  "nbformat": 4,
  "nbformat_minor": 0,
  "metadata": {
    "colab": {
      "provenance": []
    },
    "kernelspec": {
      "name": "python3",
      "display_name": "Python 3"
    },
    "language_info": {
      "name": "python"
    }
  },
  "cells": [
    {
      "cell_type": "code",
      "execution_count": 64,
      "metadata": {
        "id": "HCH4kgZbOs9H"
      },
      "outputs": [],
      "source": [
        "#Requisitos do problema:\n",
        "#Utilizando os arquivos de dowload na pasta atividades com os arquivos: Clientes, ItensVendas, Produtos, Vendas, Vendedores\n",
        "\n",
        "#1. Crie uma consultaque mostre nesta ordem, Nome, Estados e Status dos clientes\n",
        "#2. Crie uma consulta que mostre apenas os clientes do status platinum e gold\n",
        "#3. Demonstre quanto cada status de clientes representa em vendas\n",
        "\n",
        "#Resolva com dataframes, faça joins se necessario"
      ]
    },
    {
      "cell_type": "code",
      "source": [
        "#Instalando as bibliotecas:\n",
        "from pyspark.sql import SparkSession\n",
        "from pyspark.sql import functions as f\n",
        "from pyspark.sql.types import DoubleType\n",
        "from pyspark.sql.functions import col"
      ],
      "metadata": {
        "id": "MJRif6V9PSWf"
      },
      "execution_count": 65,
      "outputs": []
    },
    {
      "cell_type": "code",
      "source": [
        "#Criando o objeto spark:\n",
        "spark = SparkSession.builder.appName(\"dataFrameUdemy\").getOrCreate()"
      ],
      "metadata": {
        "id": "efS7D2yFPgsQ"
      },
      "execution_count": 66,
      "outputs": []
    },
    {
      "cell_type": "code",
      "source": [
        "#Importanto arquivo clientes:\n",
        "cliente = spark.read.format(\"parquet\").load(\"/content/drive/MyDrive/download/Atividades/Clientes.parquet\")"
      ],
      "metadata": {
        "id": "WUlc0Te6PqSY"
      },
      "execution_count": 67,
      "outputs": []
    },
    {
      "cell_type": "code",
      "source": [
        "#Importando arquivo vendas:\n",
        "venda = spark.read.format(\"parquet\").load(\"/content/drive/MyDrive/download/Atividades/Vendas.parquet\")"
      ],
      "metadata": {
        "id": "AOERCYiaNR_f"
      },
      "execution_count": 68,
      "outputs": []
    },
    {
      "cell_type": "code",
      "source": [
        "#Importando arquivo itensVendas:\n",
        "itensVenda = spark.read.format(\"parquet\").load(\"/content/drive/MyDrive/download/Atividades/ItensVendas.parquet\")"
      ],
      "metadata": {
        "id": "i_2a1MZ-NzIt"
      },
      "execution_count": 69,
      "outputs": []
    },
    {
      "cell_type": "code",
      "source": [
        "cliente.show()"
      ],
      "metadata": {
        "colab": {
          "base_uri": "https://localhost:8080/"
        },
        "id": "1dWmbE8yQmGy",
        "outputId": "486337ce-ffb9-4f69-a5fd-1b6c4dd125e3"
      },
      "execution_count": 70,
      "outputs": [
        {
          "output_type": "stream",
          "name": "stdout",
          "text": [
            "+---------+--------------------+------+------+--------+\n",
            "|ClienteID|             Cliente|Estado|Genero|  Status|\n",
            "+---------+--------------------+------+------+--------+\n",
            "|        1|Adelina Buenaventura|    RJ|     M|  Silver|\n",
            "|        2|        Adelino Gago|    RJ|     M|  Silver|\n",
            "|        3|     Adolfo Patrício|    PE|     M|  Silver|\n",
            "|        4|    Adriana Guedelha|    RO|     F|Platinum|\n",
            "|        5|       Adélio Lisboa|    SE|     M|  Silver|\n",
            "|        6|       Adérito Bahía|    MA|     M|  Silver|\n",
            "|        7|       Aida Dorneles|    RN|     F|  Silver|\n",
            "|        8|   Alarico Quinterno|    AC|     M|  Silver|\n",
            "|        9|    Alberto Cezimbra|    AM|     M|  Silver|\n",
            "|       10|    Alberto Monsanto|    RN|     M|    Gold|\n",
            "|       11|       Albino Canela|    AC|     M|  Silver|\n",
            "|       12|     Alceste Varanda|    RR|     F|  Silver|\n",
            "|       13|  Alcides Carvalhais|    RO|     M|  Silver|\n",
            "|       14|        Aldo Martins|    GO|     M|  Silver|\n",
            "|       15|   Alexandra Tabares|    MG|     F|  Silver|\n",
            "|       16|      Alfredo Cotrim|    SC|     M|  Silver|\n",
            "|       17|     Almeno Figueira|    SC|     M|  Silver|\n",
            "|       18|      Alvito Peralta|    AM|     M|  Silver|\n",
            "|       19|     Amadeu Martinho|    RN|     M|  Silver|\n",
            "|       20|      Amélia Estévez|    PE|     F|  Silver|\n",
            "+---------+--------------------+------+------+--------+\n",
            "only showing top 20 rows\n",
            "\n"
          ]
        }
      ]
    },
    {
      "cell_type": "code",
      "source": [
        "#1. Crie uma consultaque mostre nesta ordem, Nome, Estados e Status dos clientes:\n",
        "cliente1 = cliente.select(\"Cliente\", \"Estado\", \"Status\").orderBy(\"Cliente\")"
      ],
      "metadata": {
        "id": "IaHwYvkAQqUG"
      },
      "execution_count": 71,
      "outputs": []
    },
    {
      "cell_type": "code",
      "source": [
        "cliente1.show(10)"
      ],
      "metadata": {
        "colab": {
          "base_uri": "https://localhost:8080/"
        },
        "id": "6H7ZAADSRO4Y",
        "outputId": "41528d81-8eb0-434c-dd1d-964487f49c68"
      },
      "execution_count": 72,
      "outputs": [
        {
          "output_type": "stream",
          "name": "stdout",
          "text": [
            "+--------------------+------+--------+\n",
            "|             Cliente|Estado|  Status|\n",
            "+--------------------+------+--------+\n",
            "|Adelina Buenaventura|    RJ|  Silver|\n",
            "|        Adelino Gago|    RJ|  Silver|\n",
            "|     Adolfo Patrício|    PE|  Silver|\n",
            "|    Adriana Guedelha|    RO|Platinum|\n",
            "|       Adélio Lisboa|    SE|  Silver|\n",
            "|       Adérito Bahía|    MA|  Silver|\n",
            "|       Aida Dorneles|    RN|  Silver|\n",
            "|   Alarico Quinterno|    AC|  Silver|\n",
            "|    Alberto Cezimbra|    AM|  Silver|\n",
            "|    Alberto Monsanto|    RN|    Gold|\n",
            "+--------------------+------+--------+\n",
            "only showing top 10 rows\n",
            "\n"
          ]
        }
      ]
    },
    {
      "cell_type": "code",
      "source": [
        "cliente2 = cliente.select(\"ClienteID\", \"Cliente\", \"Estado\", \"Genero\", \"Status\").where((f.col(\"Status\") == \"Platinum\") | (f.col(\"Status\") == \"Gold\")).orderBy(\"Cliente\")"
      ],
      "metadata": {
        "id": "L7LYkd5_TB4X"
      },
      "execution_count": 73,
      "outputs": []
    },
    {
      "cell_type": "code",
      "source": [
        "#2. Crie uma consulta que mostre apenas os clientes do status platinum e gold:\n",
        "cliente.select(\"Cliente\", \"Status\") \\\n",
        "    .where((f.col(\"Status\") == \"Platinum\") | (f.col(\"Status\") == \"Gold\")) \\\n",
        "    .orderBy(\"Status\") \\\n",
        "    .show(20)"
      ],
      "metadata": {
        "colab": {
          "base_uri": "https://localhost:8080/"
        },
        "id": "GmTEzVJbTwYE",
        "outputId": "041a5de5-24fb-419c-dd13-cf0716adfb51"
      },
      "execution_count": 74,
      "outputs": [
        {
          "output_type": "stream",
          "name": "stdout",
          "text": [
            "+-------------------+--------+\n",
            "|            Cliente|  Status|\n",
            "+-------------------+--------+\n",
            "|   Alberto Monsanto|    Gold|\n",
            "|      Anna Carvajal|    Gold|\n",
            "|      Bento Quintão|    Gold|\n",
            "|      Carminda Dias|    Gold|\n",
            "|      Cláudio Jorge|    Gold|\n",
            "|    Dionísio Saltão|    Gold|\n",
            "|   Firmino Meireles|    Gold|\n",
            "|Honorina Villaverde|    Gold|\n",
            "|  Iracema Rodríguez|    Gold|\n",
            "|   Adriana Guedelha|Platinum|\n",
            "|      Flor Vilanova|Platinum|\n",
            "|    Ibijara Botelho|Platinum|\n",
            "|         Joana Ataí|Platinum|\n",
            "+-------------------+--------+\n",
            "\n"
          ]
        }
      ]
    },
    {
      "cell_type": "code",
      "source": [
        "# Fazendo o Join entre as tabelas cliente e vendas conforme MER\n",
        "novoDataFrame1 = cliente.join(vendas, on=\"ClienteID\", how=\"inner\")\n"
      ],
      "metadata": {
        "id": "Y5T51uqoVYsY"
      },
      "execution_count": 75,
      "outputs": []
    },
    {
      "cell_type": "code",
      "source": [
        "novoDataFrame1.show(5)"
      ],
      "metadata": {
        "colab": {
          "base_uri": "https://localhost:8080/"
        },
        "id": "aCDVvVR4O-zz",
        "outputId": "83670b8c-7a8d-45d5-d325-ff4ad7d7cb5e"
      },
      "execution_count": 76,
      "outputs": [
        {
          "output_type": "stream",
          "name": "stdout",
          "text": [
            "+---------+-----------------+------+------+------+--------+----------+--------+--------+\n",
            "|ClienteID|          Cliente|Estado|Genero|Status|VendasID|VendedorID|    Data|   Total|\n",
            "+---------+-----------------+------+------+------+--------+----------+--------+--------+\n",
            "|       91|   Cosme Zambujal|    BA|     M|Silver|       1|         1|1/1/2019|  8053.6|\n",
            "|      185|Gertrudes Hidalgo|    PA|     F|Silver|       2|         6|1/1/2020|   150.4|\n",
            "|       31| Antão Corte-Real|    ES|     M|Silver|       3|         7|2/1/2020|  6087.0|\n",
            "|       31| Antão Corte-Real|    ES|     M|Silver|       4|         5|2/1/2019| 13828.6|\n",
            "|       31| Antão Corte-Real|    ES|     M|Silver|       5|         5|3/1/2018|26096.66|\n",
            "+---------+-----------------+------+------+------+--------+----------+--------+--------+\n",
            "only showing top 5 rows\n",
            "\n"
          ]
        }
      ]
    },
    {
      "cell_type": "code",
      "source": [
        "## Fazendo o Join entre as tabelas novoDataFrame2 e itensVenda conforme MER\n",
        "novoDataFrame2 = novoDataFrame1.join(itensVenda, on=\"VendasID\", how=\"inner\")"
      ],
      "metadata": {
        "id": "c2fP6HC1PBfI"
      },
      "execution_count": 77,
      "outputs": []
    },
    {
      "cell_type": "code",
      "source": [
        "novoDataFrame2.show(5)"
      ],
      "metadata": {
        "colab": {
          "base_uri": "https://localhost:8080/"
        },
        "id": "d8CHrzUSQOZK",
        "outputId": "4d71a988-1444-4c37-ee24-c2ed707b3b78"
      },
      "execution_count": 78,
      "outputs": [
        {
          "output_type": "stream",
          "name": "stdout",
          "text": [
            "+--------+---------+-----------------+------+------+------+----------+--------+------+---------+----------+-------------+----------+--------+----------------+\n",
            "|VendasID|ClienteID|          Cliente|Estado|Genero|Status|VendedorID|    Data| Total|ProdutoID|Quantidade|ValorUnitario|ValorTotal|Desconto|TotalComDesconto|\n",
            "+--------+---------+-----------------+------+------+------+----------+--------+------+---------+----------+-------------+----------+--------+----------------+\n",
            "|       1|       91|   Cosme Zambujal|    BA|     M|Silver|         1|1/1/2019|8053.6|        2|         1|      7820.85|   7820.85|     -  |         7820.85|\n",
            "|       1|       91|   Cosme Zambujal|    BA|     M|Silver|         1|1/1/2019|8053.6|        9|         1|        97.75|     97.75|    0,98|           96.77|\n",
            "|       1|       91|   Cosme Zambujal|    BA|     M|Silver|         1|1/1/2019|8053.6|       10|         1|        135.0|     135.0|    1,35|          133.65|\n",
            "|       2|      185|Gertrudes Hidalgo|    PA|     F|Silver|         6|1/1/2020| 150.4|        8|         1|        150.4|     150.4|    1,50|           148.9|\n",
            "|       3|       31| Antão Corte-Real|    ES|     M|Silver|         7|2/1/2020|6087.0|        7|         1|        155.0|     155.0|     -  |           155.0|\n",
            "+--------+---------+-----------------+------+------+------+----------+--------+------+---------+----------+-------------+----------+--------+----------------+\n",
            "only showing top 5 rows\n",
            "\n"
          ]
        }
      ]
    },
    {
      "cell_type": "code",
      "source": [
        "#3. Somando o valor das vendas de cada cliente.\n",
        "dfTotal = novoDataFrame2.groupBy(\"ClienteID\", \"status\").agg(f.sum(\"TotalComDesconto\").cast(\"float\").alias(\"SomaTotalComDesconto\"))\n"
      ],
      "metadata": {
        "id": "2aIMtYaaP3D-"
      },
      "execution_count": 79,
      "outputs": []
    },
    {
      "cell_type": "code",
      "source": [
        "dfTotal.show(5)"
      ],
      "metadata": {
        "colab": {
          "base_uri": "https://localhost:8080/"
        },
        "id": "h7ef4R89W2GX",
        "outputId": "ecbf0576-3bad-46b5-cd14-6354e2f1ff1a"
      },
      "execution_count": 80,
      "outputs": [
        {
          "output_type": "stream",
          "name": "stdout",
          "text": [
            "+---------+--------+--------------------+\n",
            "|ClienteID|  status|SomaTotalComDesconto|\n",
            "+---------+--------+--------------------+\n",
            "|      233|  Silver|             76934.3|\n",
            "|      230|Platinum|             9467.31|\n",
            "|      241|  Silver|             5529.41|\n",
            "|       31|  Silver|            580097.2|\n",
            "|       46|  Silver|               97.75|\n",
            "+---------+--------+--------------------+\n",
            "only showing top 5 rows\n",
            "\n"
          ]
        }
      ]
    },
    {
      "cell_type": "code",
      "source": [
        "#3. Demonstre quanto cada status de clientes representa em vendas\n",
        "dfFinal = dfTotal.groupBy(\"status\")\\\n",
        ".agg(f.sum(\"SomaTotalComDesconto\")\\\n",
        "     .cast(\"float\").alias(\"Total por categoria\"))\\\n",
        "     .show()"
      ],
      "metadata": {
        "colab": {
          "base_uri": "https://localhost:8080/"
        },
        "id": "qQtIQqmmX-Dz",
        "outputId": "301b64fa-0ad2-48f9-cf4b-9a17acd37fee"
      },
      "execution_count": 81,
      "outputs": [
        {
          "output_type": "stream",
          "name": "stdout",
          "text": [
            "+--------+-------------------+\n",
            "|  status|Total por categoria|\n",
            "+--------+-------------------+\n",
            "|Platinum|            9467.31|\n",
            "|  Silver|          2673780.0|\n",
            "|    Gold|           21479.62|\n",
            "+--------+-------------------+\n",
            "\n"
          ]
        }
      ]
    },
    {
      "cell_type": "code",
      "source": [],
      "metadata": {
        "id": "slal_aQIbufT"
      },
      "execution_count": 81,
      "outputs": []
    }
  ]
}